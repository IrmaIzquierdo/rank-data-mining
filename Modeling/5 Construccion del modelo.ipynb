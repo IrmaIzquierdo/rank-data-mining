{
 "cells": [
  {
   "cell_type": "code",
   "execution_count": 1,
   "metadata": {},
   "outputs": [
    {
     "name": "stderr",
     "output_type": "stream",
     "text": [
      "c:\\Users\\USUARIO\\AppData\\Local\\Programs\\Python\\Python39\\lib\\site-packages\\tqdm\\auto.py:21: TqdmWarning: IProgress not found. Please update jupyter and ipywidgets. See https://ipywidgets.readthedocs.io/en/stable/user_install.html\n",
      "  from .autonotebook import tqdm as notebook_tqdm\n"
     ]
    }
   ],
   "source": [
    "from bertopic import BERTopic\n",
    "from bertopic.vectorizers import ClassTfidfTransformer\n",
    "import json\n",
    "import pandas as pd"
   ]
  },
  {
   "cell_type": "code",
   "execution_count": 2,
   "metadata": {},
   "outputs": [],
   "source": [
    "model_bt_fnl=BERTopic.load(\"model_final\")"
   ]
  },
  {
   "cell_type": "code",
   "execution_count": 3,
   "metadata": {},
   "outputs": [
    {
     "data": {
      "text/plain": [
       "([169, 348, 215, 170, 282],\n",
       " [0.64664143, 0.6414825, 0.6374149, 0.6264447, 0.62427855])"
      ]
     },
     "execution_count": 3,
     "metadata": {},
     "output_type": "execute_result"
    }
   ],
   "source": [
    "lista1=model_bt_fnl.find_topics(\"mineria texto\")\n",
    "#listaUno=model_bt_fnl.find_topics(\"redes\")\n",
    "lista1"
   ]
  },
  {
   "cell_type": "markdown",
   "metadata": {},
   "source": [
    "Establecer la conexion con la base de datos "
   ]
  },
  {
   "cell_type": "code",
   "execution_count": 4,
   "metadata": {},
   "outputs": [],
   "source": [
    "import mysql\n",
    "import mysql.connector as mysql\n",
    "conexion = mysql.connect(\n",
    "    host = \"localhost\",\n",
    "    user = \"root\",\n",
    "    password = \"Soysuficiente2043@\",\n",
    "    database=\"tesis\"\n",
    ")\n",
    "mycursor = conexion.cursor()\n",
    "mycursorT1 = conexion.cursor()\n",
    "mycursorT2 = conexion.cursor()\n",
    "mycursorT3 = conexion.cursor()\n",
    "mycursorT4 = conexion.cursor()\n",
    "mycursorT5 = conexion.cursor()\n",
    "mycursoR1=conexion.cursor()\n",
    "mycursorTr=conexion.cursor()\n",
    "sqlSelectT1 = \"select temaDirector,temaP1,temaUno from tema where temaUno in (%s,%s,%s,%s,%s)\"\n",
    "sqlSelectT2 = \"select temaDirector,temaP2,temaDos from tema where temaDos in (%s,%s,%s,%s,%s)\"\n",
    "sqlSelectT3 = \"select temaDirector,temaP3,temaTres from tema where temaTres in (%s,%s,%s,%s,%s)\"\n",
    "sqlSelectT4 = \"select temaDirector,temaP4,temaCuatro from tema where temaCuatro in (%s,%s,%s,%s,%s)\"\n",
    "sqlSelectT5 = \"select temaDirector,temaP5,temaCinco from tema where temaCinco in (%s,%s,%s,%s,%s)\"\n",
    "sqlInsert = \"INSERT INTO lista_rank (lista_rankDirector,lista_rankTema ,lista_rankProbabilidad,lista_ranktemapb,lista_rankcol ) VALUES (%s, %s, %s,%s,%s)\"\n",
    "sqlResult=\"select lista_rankDirector,sum((lista_rankProbabilidad*lista_rankcol)) def from lista_rank group by lista_rankDirector order by def desc\"\n",
    "sqltruncate=\"truncate table lista_rank\"\n",
    "mycursorTr.execute(sqltruncate)"
   ]
  },
  {
   "cell_type": "code",
   "execution_count": 5,
   "metadata": {},
   "outputs": [
    {
     "name": "stdout",
     "output_type": "stream",
     "text": [
      "JOSAFA DE JESUS AGUIAR PONTES\n",
      "PATRICIO XAVIER ZAMBRANO RODRIGUEZ\n",
      "LORENA KATHERINE RECALDE CERDA\n",
      "FERNANDO FLORES CIFUENTES\n",
      "('JOSAFA DE JESUS AGUIAR PONTES', 0.275795350453149)\n",
      "('PATRICIO XAVIER ZAMBRANO RODRIGUEZ', 0.26156070462825)\n",
      "('LORENA KATHERINE RECALDE CERDA', 0.21233172104234999)\n",
      "('FERNANDO FLORES CIFUENTES', 0.20826617815762496)\n"
     ]
    }
   ],
   "source": [
    "\n",
    "listaTotal=[]\n",
    "listarankeada=[]\n",
    "value4=''\n",
    "d=''\n",
    "listaTemas=str(lista1[0]).split(\",\")\n",
    "listaPb=str(lista1[1]).split(\",\")\n",
    "p1=listaTemas[0].replace(\"[\",\"\").replace(\" \",\"\")\n",
    "p2=listaTemas[1].replace(\" \",\"\")\n",
    "p3=listaTemas[2].replace(\" \",\"\")\n",
    "p4=listaTemas[3].replace(\" \",\"\")\n",
    "p5=listaTemas[4].replace(\"]\",\"\").replace(\" \",\"\")\n",
    "p=(p1,p2,p3,p4,p5,) \n",
    "\n",
    "mycursorT1.execute(sqlSelectT1, p)\n",
    "listaTotal.append(mycursorT1.fetchall())\n",
    "mycursorT2.execute(sqlSelectT2, p)\n",
    "listaTotal.append(mycursorT2.fetchall())\n",
    "mycursorT3.execute(sqlSelectT3, p)\n",
    "listaTotal.append(mycursorT3.fetchall())\n",
    "mycursorT4.execute(sqlSelectT4, p)\n",
    "listaTotal.append(mycursorT4.fetchall())\n",
    "mycursorT5.execute(sqlSelectT5, p)\n",
    "listaTotal.append(mycursorT5.fetchall())\n",
    "for j in listaTotal:\n",
    "        for i in j:\n",
    "           listaAux=(str(i).replace(\"[(\",\"\").replace(\")]\",\"\").split(\",\"))\n",
    "           value1=listaAux[0].replace(\"(\",\"\").replace(\"'\",\"\")\n",
    "           value2=listaAux[1]\n",
    "           value3=listaAux[2] \n",
    "           m= ((value3.replace(\")\",\"\")).replace(\"(\",\"\")).replace(\" \",\"\")\n",
    "           for h in range(0,len(listaTemas)):\n",
    "               V=(str(listaTemas[h]).replace(\"[\",\"\").replace(\"]\",\"\")).replace(\" \",\"\")\n",
    "               if m==V:\n",
    "                 value4=listaPb[h]\n",
    "                 value5=value4.replace(\"]\",\"\").replace(\"[\",\"\")\n",
    "                 break\n",
    "           insert=value1,m,value2,m,value5\n",
    "           print(value1)\n",
    "           mycursor.execute(sqlInsert, insert)\n",
    "           conexion.commit()\n",
    "listaResulRank=mycursoR1.execute(sqlResult)\n",
    "for  b in mycursoR1 :\n",
    "      print(b)\n",
    "               "
   ]
  },
  {
   "cell_type": "code",
   "execution_count": null,
   "metadata": {},
   "outputs": [],
   "source": []
  }
 ],
 "metadata": {
  "kernelspec": {
   "display_name": "Python 3",
   "language": "python",
   "name": "python3"
  },
  "language_info": {
   "codemirror_mode": {
    "name": "ipython",
    "version": 3
   },
   "file_extension": ".py",
   "mimetype": "text/x-python",
   "name": "python",
   "nbconvert_exporter": "python",
   "pygments_lexer": "ipython3",
   "version": "3.9.1"
  }
 },
 "nbformat": 4,
 "nbformat_minor": 2
}
