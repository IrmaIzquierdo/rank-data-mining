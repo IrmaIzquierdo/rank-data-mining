{
 "cells": [
  {
   "cell_type": "markdown",
   "metadata": {},
   "source": [
    "Notebook generado para la descarga de Tesis del repositorio digtal de la EPN\n",
    "Nombre:Descarga de Tesis\n",
    "Autor: Irma Izquierdo."
   ]
  },
  {
   "cell_type": "markdown",
   "metadata": {},
   "source": [
    "Librerias para el siguiente codigo \n",
    "pip install bs4\n",
    "pip install requests \n",
    "pip install parse \n",
    "pi install lxml\n",
    "pip install aspose-pdf     "
   ]
  },
  {
   "cell_type": "code",
   "execution_count": 1,
   "metadata": {},
   "outputs": [],
   "source": [
    "import requests\n",
    "import bs4\n",
    "from bs4 import BeautifulSoup as Bsoup\n",
    "import re\n",
    "from urllib.parse import urljoin \n",
    "import lxml\n"
   ]
  },
  {
   "cell_type": "markdown",
   "metadata": {},
   "source": [
    "Seccion de codigo generada para descargar automaticamente pdf de la ruta del repositorio digital de la EPN\n"
   ]
  },
  {
   "cell_type": "code",
   "execution_count": null,
   "metadata": {},
   "outputs": [],
   "source": [
    "url_epn='https://bibdigital.epn.edu.ec/'\n",
    "url_tes='https://bibdigital.epn.edu.ec/simple-search?query=&filter_field_1=dateIssued&filter_type_1=equals&filter_value_1=%5B2020+TO+2024%5D&sort_by=score&order=desc&rpp=10&etal=0&start='\n",
    "#url_tes='https://bibdigital.epn.edu.ec/simple-search?query=&filter_field_1=dateIssued&filter_type_1=equals&filter_value_1=%5B2010+TO+2019%5D&sort_by=score&order=desc&rpp=10&etal=0&start='\n",
    "#url_local='C:\\Users\\USUARIO\\Desktop\\IRMA\\MAESTRIA-EPN\\TESIS\\desarrollo\\data\\tesis'\n",
    "def status_code_url(url):\n",
    "    r=requests.get(url)\n",
    "    if r.status_code==200:\n",
    "        s=Bsoup(r.text,\"lxml\")\n",
    "    else:\n",
    "        print(\"Error en el status de la pagina\")\n",
    "    return s\n",
    "def aniosLinl(sm):\n",
    "   miLista=[] \n",
    "   pi=sm.find_all('td')\n",
    "   for i in pi:\n",
    "      cv=i.find_all('a')\n",
    "      for v in cv:\n",
    "          d=v.get('href')\n",
    "          if \"handle\" in str(d):\n",
    "              miLista.append(d)\n",
    "   return miLista\n",
    "def pdfLink(fi):\n",
    "   miOLista=[] \n",
    "   pi=fi.find_all('td')\n",
    "   for i in pi:\n",
    "      cv=i.find_all('a')\n",
    "      for v in cv:\n",
    "          d=v.get('href')\n",
    "          if \".pdf\" in str(d) :\n",
    "              if d not in miOLista:\n",
    "                  miOLista.append(d)\n",
    "   return miOLista \n",
    "\n",
    "def joinLink(url1,url2):\n",
    "    return urljoin(url1,url2)\n",
    "def saveDisk(url,i):\n",
    "    r=requests.get(url)\n",
    "    with open('pdf_2020_2024\\Arch_1019_'+str(i)+'.pdf','wb') as f:\n",
    "        f.write(r.content)\n",
    "        f.close\n",
    "\n",
    "if __name__=='__main__':\n",
    "   listPdf=[] \n",
    "   for i in range(3500,3740,10):#37501\n",
    "        x=joinLink(url_epn,url_tes)\n",
    "        m=x+str(i)\n",
    "        s=status_code_url(m);\n",
    "        p=aniosLinl(s)\n",
    "        #print(p)\n",
    "        for i in p:\n",
    "            pdfUrl=joinLink(m,i)\n",
    "            gi=status_code_url(pdfUrl)\n",
    "            pdf=pdfLink(gi)\n",
    "            for y in pdf: \n",
    "             listPdf.append(joinLink(pdfUrl,y))\n",
    "   num=12185\n",
    "   for j in listPdf:\n",
    "    saveDisk(j,num)\n",
    "    num=num+1     \n",
    "       "
   ]
  }
 ],
 "metadata": {
  "kernelspec": {
   "display_name": "Python 3",
   "language": "python",
   "name": "python3"
  },
  "language_info": {
   "codemirror_mode": {
    "name": "ipython",
    "version": 3
   },
   "file_extension": ".py",
   "mimetype": "text/x-python",
   "name": "python",
   "nbconvert_exporter": "python",
   "pygments_lexer": "ipython3",
   "version": "3.9.1"
  }
 },
 "nbformat": 4,
 "nbformat_minor": 2
}
