{
 "cells": [
  {
   "cell_type": "markdown",
   "metadata": {},
   "source": [
    "Importacion de librerias"
   ]
  },
  {
   "cell_type": "code",
   "execution_count": 9,
   "metadata": {},
   "outputs": [],
   "source": [
    "from posixpath import split\n",
    "from PyPDF2 import PdfReader\n",
    "from pdfreader import SimplePDFViewer\n",
    "from pandas import ExcelWriter\n",
    "from pandas import ExcelFile\n",
    "import unicodedata\n",
    "import aspose.pdf as rt\n",
    "import shutil"
   ]
  },
  {
   "cell_type": "markdown",
   "metadata": {},
   "source": [
    "Conexion a la base de datos en Mysql"
   ]
  },
  {
   "cell_type": "code",
   "execution_count": 10,
   "metadata": {},
   "outputs": [
    {
     "name": "stdout",
     "output_type": "stream",
     "text": [
      "['BINARY', 'Binary', 'CMySQLConnection', 'CharacterSet', 'ClientFlag', 'Connect', 'DATETIME', 'DataError', 'DatabaseError', 'Date', 'DateFromTicks', 'Error', 'FieldFlag', 'FieldType', 'HAVE_CEXT', 'IntegrityError', 'InterfaceError', 'InternalError', 'MySQLConnection', 'NUMBER', 'NotSupportedError', 'OperationalError', 'PoolError', 'ProgrammingError', 'ROWID', 'RefreshOption', 'STRING', 'Time', 'TimeFromTicks', 'Timestamp', 'TimestampFromTicks', 'Warning', '__all__', '__builtins__', '__cached__', '__doc__', '__file__', '__loader__', '__name__', '__package__', '__path__', '__spec__', '__version__', '__version_info__', 'abstracts', 'apilevel', 'authentication', 'charsets', 'connect', 'connection', 'connection_cext', 'constants', 'conversion', 'cursor', 'cursor_cext', 'custom_error_exception', 'custom_types', 'dbapi', 'errorcode', 'errors', 'locales', 'logger', 'network', 'opentelemetry', 'optionfiles', 'paramstyle', 'plugins', 'pooling', 'protocol', 'threadsafety', 'tls_ciphers', 'types', 'utils', 'version']\n"
     ]
    }
   ],
   "source": [
    "import mysql\n",
    "import mysql.connector as mysql\n",
    "\n",
    "print(dir(mysql))\n",
    "conexion = mysql.connect(\n",
    "    host = \"localhost\",\n",
    "    user = \"root\",\n",
    "    password = \"Soysuficiente2043@\",\n",
    "    database=\"tesis\"\n",
    ")"
   ]
  },
  {
   "cell_type": "markdown",
   "metadata": {},
   "source": [
    "Algoritmo para validar que documentos ya se han guardado en la base de datos "
   ]
  },
  {
   "cell_type": "code",
   "execution_count": null,
   "metadata": {},
   "outputs": [
    {
     "name": "stdout",
     "output_type": "stream",
     "text": [
      "1\n"
     ]
    }
   ],
   "source": [
    "import re\n",
    "import os\n",
    "import pandas as pd\n",
    "ruta1='C:/Users/USUARIO/Desktop/IRMA/MAESTRIA-EPN/TESIS/desarrollo/prueba2/'\n",
    "ruta2='listo_26052024/'\n",
    "contenido=os.listdir(ruta1)\n",
    "mycursor = conexion.cursor()\n",
    "s=0;\n",
    "for i in range(len(contenido)):\n",
    "    pdfFile=ruta1+contenido[i]\n",
    "    reader=PdfReader(pdfFile)\n",
    "    nomFile=str(contenido[i])\n",
    "    sql = \"SELECT nombre_arch from detalle  where nombre_arch=%s\"\n",
    "    adr=(nomFile,)\n",
    "    mycursor.execute(sql,adr)\n",
    "    myresult = mycursor.fetchall()\n",
    "    for x in myresult:\n",
    "      if str(x[0]) == '':\n",
    "        print('no esta....'+nomFile)\n",
    "      else :\n",
    "        #print('x='+str(x))\n",
    "         shutil.move(ruta1+str(x[0]),ruta2+str(x[0])) \n",
    "               \n",
    "         s=s+1    \n",
    "print(s)   \n"
   ]
  }
 ],
 "metadata": {
  "kernelspec": {
   "display_name": "Python 3",
   "language": "python",
   "name": "python3"
  },
  "language_info": {
   "codemirror_mode": {
    "name": "ipython",
    "version": 3
   },
   "file_extension": ".py",
   "mimetype": "text/x-python",
   "name": "python",
   "nbconvert_exporter": "python",
   "pygments_lexer": "ipython3",
   "version": "3.9.1"
  }
 },
 "nbformat": 4,
 "nbformat_minor": 2
}
