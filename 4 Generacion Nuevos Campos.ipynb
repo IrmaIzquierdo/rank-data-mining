{
 "cells": [
  {
   "cell_type": "code",
   "execution_count": 2,
   "metadata": {},
   "outputs": [],
   "source": [
    "import pandas as pd\n",
    "import os\n"
   ]
  },
  {
   "cell_type": "code",
   "execution_count": 3,
   "metadata": {},
   "outputs": [
    {
     "name": "stdout",
     "output_type": "stream",
     "text": [
      "['BINARY', 'Binary', 'CMySQLConnection', 'CharacterSet', 'ClientFlag', 'Connect', 'DATETIME', 'DataError', 'DatabaseError', 'Date', 'DateFromTicks', 'Error', 'FieldFlag', 'FieldType', 'HAVE_CEXT', 'IntegrityError', 'InterfaceError', 'InternalError', 'MySQLConnection', 'NUMBER', 'NotSupportedError', 'OperationalError', 'PoolError', 'ProgrammingError', 'ROWID', 'RefreshOption', 'STRING', 'Time', 'TimeFromTicks', 'Timestamp', 'TimestampFromTicks', 'Warning', '__all__', '__builtins__', '__cached__', '__doc__', '__file__', '__loader__', '__name__', '__package__', '__path__', '__spec__', '__version__', '__version_info__', 'abstracts', 'apilevel', 'authentication', 'charsets', 'connect', 'connection', 'connection_cext', 'constants', 'conversion', 'cursor', 'cursor_cext', 'custom_error_exception', 'custom_types', 'dbapi', 'errorcode', 'errors', 'locales', 'logger', 'network', 'opentelemetry', 'optionfiles', 'paramstyle', 'plugins', 'pooling', 'protocol', 'threadsafety', 'tls_ciphers', 'types', 'utils', 'version']\n"
     ]
    }
   ],
   "source": [
    "import mysql\n",
    "import mysql.connector as mysql\n",
    "\n",
    "print(dir(mysql))\n",
    "conexion = mysql.connect(\n",
    "    host = \"localhost\",\n",
    "    user = \"root\",\n",
    "    password = \"Soysuficiente2043@\",\n",
    "    database=\"tesis\"\n",
    ")"
   ]
  },
  {
   "cell_type": "code",
   "execution_count": 33,
   "metadata": {},
   "outputs": [
    {
     "data": {
      "text/html": [
       "<div>\n",
       "<style scoped>\n",
       "    .dataframe tbody tr th:only-of-type {\n",
       "        vertical-align: middle;\n",
       "    }\n",
       "\n",
       "    .dataframe tbody tr th {\n",
       "        vertical-align: top;\n",
       "    }\n",
       "\n",
       "    .dataframe thead th {\n",
       "        text-align: right;\n",
       "    }\n",
       "</style>\n",
       "<table border=\"1\" class=\"dataframe\">\n",
       "  <thead>\n",
       "    <tr style=\"text-align: right;\">\n",
       "      <th></th>\n",
       "      <th>DIRECTOR ;TESIS</th>\n",
       "    </tr>\n",
       "  </thead>\n",
       "  <tbody>\n",
       "    <tr>\n",
       "      <th>0</th>\n",
       "      <td>ABRAHAM ISMAEL LOJA ROMERO;\"1603;1630;1664;167...</td>\n",
       "    </tr>\n",
       "    <tr>\n",
       "      <th>1</th>\n",
       "      <td>ADRIAN FABRICIO LLUMIQUINGA SORIA;\"5190;5826;\"</td>\n",
       "    </tr>\n",
       "    <tr>\n",
       "      <th>2</th>\n",
       "      <td>ADRIAN PATRICIO PENA IDROVO;\"763;4550;\"</td>\n",
       "    </tr>\n",
       "    <tr>\n",
       "      <th>3</th>\n",
       "      <td>AHMED HAMAD KHALED MOHAMED;\"2022;589;2966;5291...</td>\n",
       "    </tr>\n",
       "    <tr>\n",
       "      <th>4</th>\n",
       "      <td>ALBERTO XAVIER ONA SERRRANO;\"2132;2154;2171;62...</td>\n",
       "    </tr>\n",
       "  </tbody>\n",
       "</table>\n",
       "</div>"
      ],
      "text/plain": [
       "                                     DIRECTOR ;TESIS\n",
       "0  ABRAHAM ISMAEL LOJA ROMERO;\"1603;1630;1664;167...\n",
       "1     ADRIAN FABRICIO LLUMIQUINGA SORIA;\"5190;5826;\"\n",
       "2            ADRIAN PATRICIO PENA IDROVO;\"763;4550;\"\n",
       "3  AHMED HAMAD KHALED MOHAMED;\"2022;589;2966;5291...\n",
       "4  ALBERTO XAVIER ONA SERRRANO;\"2132;2154;2171;62..."
      ]
     },
     "execution_count": 33,
     "metadata": {},
     "output_type": "execute_result"
    }
   ],
   "source": [
    "ruta='C:/Users/USUARIO/Desktop/IRMA/MAESTRIA-EPN/TESIS/desarrollo/input/PERFIL_REVISAR.csv'\n",
    "data=pd.read_csv(ruta)\n",
    "data.head()\n"
   ]
  },
  {
   "cell_type": "code",
   "execution_count": 39,
   "metadata": {},
   "outputs": [
    {
     "name": "stdout",
     "output_type": "stream",
     "text": [
      "4122;5381;6037\"\n"
     ]
    }
   ],
   "source": [
    "print(data.iloc[347,0])\n"
   ]
  },
  {
   "cell_type": "code",
   "execution_count": 23,
   "metadata": {},
   "outputs": [],
   "source": [
    "mycursor = conexion.cursor()\n",
    "sql=\"select concat(replace(capitulo_uno,'sn',''),replace(capitulo_dos,'sn',''),replace(resumen,'sn',''))  as det from detalle where id_tesis= %s\"\n"
   ]
  },
  {
   "cell_type": "code",
   "execution_count": 40,
   "metadata": {},
   "outputs": [
    {
     "name": "stdout",
     "output_type": "stream",
     "text": [
      "1-  4122\n",
      "presente proyecto establece factibilidad par creacion una empresa comercializadora productos insumos agropecuari canton san miguel bancos noroccidente pichincha consta sietemarco teorico estudio mercado estudio tecnico estudio organizacional aspectos legales estudio financiero conclusione recomendaciones primer describen antecedentes otivaron realizacion proyecto base esto realizo planteamien mismo formulacion sistematizacion nos permite plante objetivos cumpliran desarrollo presente proyecto ademas justificara realizacion proyecto viabilidad hipotesis tilizo metodo hipotetico deductivo traves una estructuracion sistematica perm itira comprobacion hipotesis planteada segundo pres enta fundamentacion teorica sustenta desarrollo proyecto base specificaciones establecidas por diferentes autores especialistas realizacion proyectos describen partes mas importantes para desarrollo est udio factibilidad son estudio mercado estudio tecnico estudio organizacional legal por ultimo estudio financiero tercer rea liza estudio mercado mismo utilizacion merc ados nos permitio realizar analisis demanda oferta elaborar estrategias comerciales cual permitio determinar viabilidad comercial pro yecto cuarto estudio tecnico muestra localizacion tamano adecuad recursos necesarios procesos re ridos para operacion diaria empresa cual nos permitio evidenciar viabilidad tecnica proyecto quinto estudio organizacional aspectos legales determina estructura administrativa re rimientos legales necesarios para implement acion proyecto sexto',)vigencia constitucion ecuador asa mblea constituyente ley organica educacion superior loes samblea nacional sistema nacional universidades inicio proc eso reformas profundo escuela politecnica nacional redacto estatuto nuevo consejo politecnico alinea nuevo marco juridico envio para aprobacion organismo competente hasta presen fecha diciembre ese estatuto sido aprobado por anto vigente estatuto propuesto crea direccion nvestigacion proyeccion social pero describe estructura sus funciones acuerdo loes estatuto escuela politecnica nacional tiene obligacion desarrollar tres actividades principales docencia forma profesionales generadora conocimientos proye ccion social responsable vincularse sociedad para impulsar desa rrollo local nacional una organizacion realiza dos tipos actividades unas repetitivas permanentes resultados estandarizados llamadas operaciones caso universidades sus actividades docentes para formacion profesionales otras temporales resultados unicos denominados proyectos universidades ejecutan para gen erar conocimientos transferirlos comunidad para impulsar desarrollo proyeccion social proceso docente repeti tivo actividades muy bien especificadas sistemas seguimiento cont rol maduras son operaciones epn pero actividades inve stigacion proyeccion social son desarrolladas mediante proyectos una actividad creadora inve stigador debe desarrollar trabajo absoluta libertad pero gestion proyectos exige actividades burocraticas suelen entorpecer rabajo fundamental direccion proyeccion social debe ofrecerle servicios asesoria capacitacion gestion logistica adminis trativa difusion resultados trabajo por esa razon propone crear una direccionmatriz marco logico proyecto implantacion direccion proyeccion social escuela pol itecnica nacional como una oficina gestion proyectos narrativo indicadores logro medios verificacion supuestos fin proyeccion social epn potenciada presupuesto dispone epn para proyectos proyeccion social crecido respecto presupuesto ano ano presupuesto epn direccion proyeccion social epn mantiene operacion proyectos proyeccion social formulan ejecutan acuerdo estandares internacionales finales ano informe gestion direccion proyeccion social epn publicaciones sobre resultados proyectos dips epn crecen respecto realizadas ano para ano informe gestion direccion proyeccion social epn proposito direccion proyeccion social epn operacion direccion proyeccion social epn opera integramente octubre informe gestion direccion proyeccion social epn toda epn apoya gestion direccion proyeccion social epn componentes estructura juridica dips epn aprobada reglamento funcionamiento disp epn aprobado vigente enero reglamento aprobado consejo politecnico aprueba reglamento plazos previstos personal dips epn funciones director subdirectores areas personal apoyo contratados febrero nombramiento contratos personal hay interes posibles candidatos participar concursos',)\n",
      "1 record inserted.\n"
     ]
    }
   ],
   "source": [
    "# Iteración por filas del DataFrame:\n",
    "f=open(\"perfil_director.txt\",\"w\")\n",
    "largo=(len(data))\n",
    "for i in range(347,348) :\n",
    " a=str(data.iloc[[i]])\n",
    " p=a.replace('\"','').split(\";\")\n",
    " resumen=''\n",
    " for i in range(1,len(p)):\n",
    "     if i==1 :\n",
    "       print(str(i)+'-'+p[i].replace('TESIS','')[4:len(p[i])])\n",
    "       director=p[i].replace('TESIS','')[4:len(p[i])]\n",
    "       f.write(director)\n",
    "       f.write('\\n')       \n",
    "     else:  \n",
    "        adr = (str(p[i]), )   \n",
    "        mycursor.execute(sql,adr)\n",
    "        myresult = mycursor.fetchall()\n",
    "        if len(myresult)!=0:\n",
    "          resumen=str(resumen)+str(myresult[0])       \n",
    " sqlInsert = \"INSERT INTO perfil (perfilDrector, perfilResumen,perfilFlag) VALUES (%s, %s, %s)\"\n",
    " resumenFinal=(resumen.replace(\"('\",'')).replace(\"')\",\"\").replace(\"  \",\"\") \n",
    " print(resumenFinal)\n",
    " val = (director, resumenFinal,'Y')\n",
    " mycursor.execute(sqlInsert, val)\n",
    " conexion.commit()\n",
    " print(mycursor.rowcount, \"record inserted.\")\n",
    " resumen=''\n",
    "f.close()     \n",
    "\n",
    "             \n",
    "\n"
   ]
  }
 ],
 "metadata": {
  "kernelspec": {
   "display_name": "Python 3",
   "language": "python",
   "name": "python3"
  },
  "language_info": {
   "codemirror_mode": {
    "name": "ipython",
    "version": 3
   },
   "file_extension": ".py",
   "mimetype": "text/x-python",
   "name": "python",
   "nbconvert_exporter": "python",
   "pygments_lexer": "ipython3",
   "version": "3.9.1"
  }
 },
 "nbformat": 4,
 "nbformat_minor": 2
}
